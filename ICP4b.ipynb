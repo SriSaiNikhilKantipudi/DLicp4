{
  "nbformat": 4,
  "nbformat_minor": 0,
  "metadata": {
    "colab": {
      "name": "ICP4b.ipynb",
      "provenance": [],
      "machine_shape": "hm"
    },
    "kernelspec": {
      "name": "python3",
      "display_name": "Python 3"
    }
  },
  "cells": [
    {
      "cell_type": "code",
      "metadata": {
        "id": "zEHhM7rq9vDb",
        "colab_type": "code",
        "outputId": "1723387a-5432-4b7c-dc4f-41962e8fc6ed",
        "colab": {
          "base_uri": "https://localhost:8080/",
          "height": 34
        }
      },
      "source": [
        "from google.colab import drive\n",
        "drive.mount('/content/drive')"
      ],
      "execution_count": 2,
      "outputs": [
        {
          "output_type": "stream",
          "text": [
            "Drive already mounted at /content/drive; to attempt to forcibly remount, call drive.mount(\"/content/drive\", force_remount=True).\n"
          ],
          "name": "stdout"
        }
      ]
    },
    {
      "cell_type": "code",
      "metadata": {
        "id": "-xOVM7kFq0uL",
        "colab_type": "code",
        "outputId": "d490b5b6-9356-4e18-ee6c-2613274ef6e0",
        "colab": {
          "base_uri": "https://localhost:8080/",
          "height": 134
        }
      },
      "source": [
        "%tensorflow_version 1.15\n",
        "import tensorflow as tf\n",
        "from keras import Sequential\n",
        "from keras.datasets import mnist\n",
        "import numpy as np\n",
        "from keras.layers import Dense\n",
        "from keras.utils import to_categorical\n",
        "from keras.preprocessing.image import ImageDataGenerator, load_img\n",
        "import os\n",
        "import matplotlib.pyplot as plt\n",
        "from keras.layers import Dense, Flatten, Dropout, Input, BatchNormalization\n",
        "from keras.constraints import maxnorm\n",
        "from keras.models import Model\n",
        "from keras.optimizers import SGD, Adam\n",
        "from keras.layers.convolutional import Conv2D, MaxPooling2D\n",
        "from keras.utils import np_utils\n",
        "from keras import backend as K\n",
        "K.common.image_dim_ordering()"
      ],
      "execution_count": 1,
      "outputs": [
        {
          "output_type": "stream",
          "text": [
            "`%tensorflow_version` only switches the major version: 1.x or 2.x.\n",
            "You set: `1.15`. This will be interpreted as: `1.x`.\n",
            "\n",
            "\n",
            "TensorFlow 1.x selected.\n"
          ],
          "name": "stdout"
        },
        {
          "output_type": "stream",
          "text": [
            "Using TensorFlow backend.\n"
          ],
          "name": "stderr"
        },
        {
          "output_type": "execute_result",
          "data": {
            "text/plain": [
              "'tf'"
            ]
          },
          "metadata": {
            "tags": []
          },
          "execution_count": 1
        }
      ]
    },
    {
      "cell_type": "code",
      "metadata": {
        "id": "VWbKDaXmts2p",
        "colab_type": "code",
        "colab": {}
      },
      "source": [
        "from PIL import Image\n",
        "import glob\n",
        "import cv2\n",
        "train_images=[]\n",
        "for filename in glob.glob('/content/drive/My Drive/Colab Notebooks/train/*.jpg'):\n",
        "    img_normal = cv2.imread(filename)\n",
        "    output = cv2.resize(img_normal, (50,50))\n",
        "    train_images.append([output,0])"
      ],
      "execution_count": 0,
      "outputs": []
    },
    {
      "cell_type": "code",
      "metadata": {
        "id": "2WpHZ8nKxobx",
        "colab_type": "code",
        "colab": {}
      },
      "source": [
        "from PIL import Image\n",
        "import glob\n",
        "import cv2\n",
        "for filename in glob.glob('/content/drive/My Drive/Colab Notebooks/bike/*.jpg'):\n",
        "    img_normal = cv2.imread(filename)\n",
        "    output = cv2.resize(img_normal,(50,50))\n",
        "    train_images.append([output,1])"
      ],
      "execution_count": 0,
      "outputs": []
    },
    {
      "cell_type": "code",
      "metadata": {
        "id": "UNVAufGmzy5r",
        "colab_type": "code",
        "colab": {}
      },
      "source": [
        "import random\n",
        "random.shuffle(train_images)"
      ],
      "execution_count": 0,
      "outputs": []
    },
    {
      "cell_type": "code",
      "metadata": {
        "id": "I4DZ9Lvx0LuS",
        "colab_type": "code",
        "colab": {}
      },
      "source": [
        "x_train=[]\n",
        "y_train=[]\n",
        "for im,label in train_images:\n",
        "  x_train.append(im)\n",
        "  y_train.append(label)"
      ],
      "execution_count": 0,
      "outputs": []
    },
    {
      "cell_type": "code",
      "metadata": {
        "id": "s2wlT_vg1xKD",
        "colab_type": "code",
        "colab": {}
      },
      "source": [
        "x_train=np.array(x_train).reshape(-1,50,50,3)"
      ],
      "execution_count": 0,
      "outputs": []
    },
    {
      "cell_type": "code",
      "metadata": {
        "id": "dyiRSjBhoi4P",
        "colab_type": "code",
        "outputId": "488951c7-ba45-4294-96e3-36ac3c1c2c2a",
        "colab": {
          "base_uri": "https://localhost:8080/",
          "height": 840
        }
      },
      "source": [
        "train_images[0]"
      ],
      "execution_count": 8,
      "outputs": [
        {
          "output_type": "execute_result",
          "data": {
            "text/plain": [
              "[array([[[ 80,  85,  80],\n",
              "         [ 84,  92,  84],\n",
              "         [ 82,  88,  81],\n",
              "         ...,\n",
              "         [ 76,  80,  68],\n",
              "         [ 79,  86,  76],\n",
              "         [ 87,  94,  88]],\n",
              " \n",
              "        [[ 86,  86,  71],\n",
              "         [ 78,  80,  64],\n",
              "         [ 81,  82,  67],\n",
              "         ...,\n",
              "         [ 84,  80,  58],\n",
              "         [ 71,  71,  51],\n",
              "         [ 68,  69,  50]],\n",
              " \n",
              "        [[ 96,  96,  76],\n",
              "         [ 88,  88,  68],\n",
              "         [ 78,  77,  57],\n",
              "         ...,\n",
              "         [ 83,  78,  47],\n",
              "         [ 77,  75,  46],\n",
              "         [ 78,  77,  51]],\n",
              " \n",
              "        ...,\n",
              " \n",
              "        [[182, 182, 182],\n",
              "         [156, 156, 156],\n",
              "         [164, 164, 164],\n",
              "         ...,\n",
              "         [180, 180, 180],\n",
              "         [194, 194, 194],\n",
              "         [178, 178, 178]],\n",
              " \n",
              "        [[170, 170, 170],\n",
              "         [162, 162, 162],\n",
              "         [174, 174, 174],\n",
              "         ...,\n",
              "         [186, 186, 186],\n",
              "         [199, 199, 199],\n",
              "         [187, 187, 187]],\n",
              " \n",
              "        [[181, 181, 181],\n",
              "         [172, 172, 172],\n",
              "         [161, 161, 161],\n",
              "         ...,\n",
              "         [196, 196, 196],\n",
              "         [189, 189, 189],\n",
              "         [182, 182, 182]]], dtype=uint8), 1]"
            ]
          },
          "metadata": {
            "tags": []
          },
          "execution_count": 8
        }
      ]
    },
    {
      "cell_type": "markdown",
      "metadata": {
        "id": "c7Ax05PxoSEU",
        "colab_type": "text"
      },
      "source": [
        ""
      ]
    },
    {
      "cell_type": "code",
      "metadata": {
        "id": "1IlUMv9PoStq",
        "colab_type": "code",
        "outputId": "94ff3213-10cb-482e-83db-f6ad545d7059",
        "colab": {
          "base_uri": "https://localhost:8080/",
          "height": 840
        }
      },
      "source": [
        "type(x_train)\n",
        "x_train.shape\n",
        "x_train[0]"
      ],
      "execution_count": 9,
      "outputs": [
        {
          "output_type": "execute_result",
          "data": {
            "text/plain": [
              "array([[[ 80,  85,  80],\n",
              "        [ 84,  92,  84],\n",
              "        [ 82,  88,  81],\n",
              "        ...,\n",
              "        [ 76,  80,  68],\n",
              "        [ 79,  86,  76],\n",
              "        [ 87,  94,  88]],\n",
              "\n",
              "       [[ 86,  86,  71],\n",
              "        [ 78,  80,  64],\n",
              "        [ 81,  82,  67],\n",
              "        ...,\n",
              "        [ 84,  80,  58],\n",
              "        [ 71,  71,  51],\n",
              "        [ 68,  69,  50]],\n",
              "\n",
              "       [[ 96,  96,  76],\n",
              "        [ 88,  88,  68],\n",
              "        [ 78,  77,  57],\n",
              "        ...,\n",
              "        [ 83,  78,  47],\n",
              "        [ 77,  75,  46],\n",
              "        [ 78,  77,  51]],\n",
              "\n",
              "       ...,\n",
              "\n",
              "       [[182, 182, 182],\n",
              "        [156, 156, 156],\n",
              "        [164, 164, 164],\n",
              "        ...,\n",
              "        [180, 180, 180],\n",
              "        [194, 194, 194],\n",
              "        [178, 178, 178]],\n",
              "\n",
              "       [[170, 170, 170],\n",
              "        [162, 162, 162],\n",
              "        [174, 174, 174],\n",
              "        ...,\n",
              "        [186, 186, 186],\n",
              "        [199, 199, 199],\n",
              "        [187, 187, 187]],\n",
              "\n",
              "       [[181, 181, 181],\n",
              "        [172, 172, 172],\n",
              "        [161, 161, 161],\n",
              "        ...,\n",
              "        [196, 196, 196],\n",
              "        [189, 189, 189],\n",
              "        [182, 182, 182]]], dtype=uint8)"
            ]
          },
          "metadata": {
            "tags": []
          },
          "execution_count": 9
        }
      ]
    },
    {
      "cell_type": "code",
      "metadata": {
        "id": "_C77AIUF2B5k",
        "colab_type": "code",
        "outputId": "2fc3396f-63a6-4ae9-b76c-6351680135eb",
        "colab": {
          "base_uri": "https://localhost:8080/",
          "height": 281
        }
      },
      "source": [
        "import matplotlib.pyplot as plt\n",
        "plt.imshow(x_train[20,:,:])\n",
        "plt.title('Ground Truth : {}'.format(y_train[50]))\n",
        "plt.show()\n"
      ],
      "execution_count": 14,
      "outputs": [
        {
          "output_type": "display_data",
          "data": {
            "image/png": "[encoded data removed]",
            "text/plain": [
              "<Figure size 432x288 with 1 Axes>"
            ]
          },
          "metadata": {
            "tags": [],
            "needs_background": "light"
          }
        }
      ]
    },
    {
      "cell_type": "code",
      "metadata": {
        "id": "C6zYDe4y3AN8",
        "colab_type": "code",
        "colab": {}
      },
      "source": [
        "test_images=[]\n",
        "for filename in glob.glob('/content/drive/My Drive/Colab Notebooks/train1/*.jpg'): \n",
        "    img_normal = cv2.imread(filename)\n",
        "    output = cv2.resize(img_normal, (50,50))\n",
        "    test_images.append([output,0])"
      ],
      "execution_count": 0,
      "outputs": []
    },
    {
      "cell_type": "code",
      "metadata": {
        "id": "t2Qi0yBR3b01",
        "colab_type": "code",
        "colab": {}
      },
      "source": [
        "for filename in glob.glob('/content/drive/My Drive/Colab Notebooks/bike1/*.jpg'): \n",
        "    img_normal = cv2.imread(filename)\n",
        "    #print(im.shape)\n",
        "    #print(type(im.shape))\n",
        "    output = cv2.resize(img_normal, (50,50))\n",
        "    test_images.append([output,1])"
      ],
      "execution_count": 0,
      "outputs": []
    },
    {
      "cell_type": "code",
      "metadata": {
        "id": "s-vveX1y3vzJ",
        "colab_type": "code",
        "colab": {}
      },
      "source": [
        "random.shuffle(test_images)"
      ],
      "execution_count": 0,
      "outputs": []
    },
    {
      "cell_type": "code",
      "metadata": {
        "id": "_FGl7vzE3zq4",
        "colab_type": "code",
        "colab": {}
      },
      "source": [
        "x_test=[]\n",
        "y_test=[]\n",
        "for im,label in test_images:\n",
        "  x_test.append(im)\n",
        "  y_test.append(label)"
      ],
      "execution_count": 0,
      "outputs": []
    },
    {
      "cell_type": "code",
      "metadata": {
        "id": "jOoODJ264Bao",
        "colab_type": "code",
        "colab": {}
      },
      "source": [
        "x_test=np.array(x_test).reshape(-1,50,50,3)"
      ],
      "execution_count": 0,
      "outputs": []
    },
    {
      "cell_type": "code",
      "metadata": {
        "id": "9APCK0tp4UFs",
        "colab_type": "code",
        "colab": {}
      },
      "source": [
        "x_train = x_train.astype('float32')\n",
        "x_test = x_test.astype('float32')\n",
        "x_train = x_train / 255.0\n",
        "x_test = x_test / 255.0"
      ],
      "execution_count": 0,
      "outputs": []
    },
    {
      "cell_type": "code",
      "metadata": {
        "id": "4VTcRk9m4poj",
        "colab_type": "code",
        "colab": {}
      },
      "source": [
        "y_train = np_utils.to_categorical(y_train)\n",
        "y_test = np_utils.to_categorical(y_test)\n",
        "num_classes = y_test.shape[1]"
      ],
      "execution_count": 0,
      "outputs": []
    },
    {
      "cell_type": "code",
      "metadata": {
        "id": "LnQad1Tn41ap",
        "colab_type": "code",
        "outputId": "08406b81-acaa-441b-d03a-cea6f0a4c78d",
        "colab": {
          "base_uri": "https://localhost:8080/",
          "height": 121
        }
      },
      "source": [
        "model = Sequential()\n",
        "model.add(Conv2D(256, (3, 3), input_shape=(x_train.shape[1:]), padding='same', activation='relu'))\n",
        "model.add(Dropout(0.5))\n",
        "model.add(Conv2D(256, (3, 3), activation='relu', padding='same'))\n",
        "model.add(MaxPooling2D(pool_size=(2, 2)))\n",
        "model.add(Dropout(0.5))\n",
        "model.add(Flatten())\n",
        "model.add(Dense(512, activation='relu', kernel_constraint=maxnorm(3)))\n",
        "model.add(Dropout(0.3))\n",
        "model.add(Dense(num_classes, activation='softmax'))"
      ],
      "execution_count": 22,
      "outputs": [
        {
          "output_type": "stream",
          "text": [
            "WARNING:tensorflow:From /tensorflow-1.15.2/python3.6/tensorflow_core/python/ops/resource_variable_ops.py:1630: calling BaseResourceVariable.__init__ (from tensorflow.python.ops.resource_variable_ops) with constraint is deprecated and will be removed in a future version.\n",
            "Instructions for updating:\n",
            "If using Keras pass *_constraint arguments to layers.\n",
            "WARNING:tensorflow:From /usr/local/lib/python3.6/dist-packages/keras/backend/tensorflow_backend.py:4070: The name tf.nn.max_pool is deprecated. Please use tf.nn.max_pool2d instead.\n",
            "\n"
          ],
          "name": "stdout"
        }
      ]
    },
    {
      "cell_type": "code",
      "metadata": {
        "id": "SugkVFcd5Bk-",
        "colab_type": "code",
        "colab": {}
      },
      "source": [
        "epochs = 20\n",
        "lrate = 0.001\n",
        "decay = lrate/epochs\n",
        "sgd = Adam(lr=lrate)\n",
        "model.compile(loss='categorical_crossentropy', optimizer=sgd, metrics=['accuracy'])"
      ],
      "execution_count": 0,
      "outputs": []
    },
    {
      "cell_type": "code",
      "metadata": {
        "id": "GHYzTeqy5N1i",
        "colab_type": "code",
        "outputId": "c06d51cd-703f-46de-fa1e-45053aa9e8c7",
        "colab": {
          "base_uri": "https://localhost:8080/",
          "height": 776
        }
      },
      "source": [
        "model.fit(x_train, y_train, validation_data=(x_test, y_test), epochs=epochs, batch_size=128)"
      ],
      "execution_count": 24,
      "outputs": [
        {
          "output_type": "stream",
          "text": [
            "WARNING:tensorflow:From /usr/local/lib/python3.6/dist-packages/keras/backend/tensorflow_backend.py:422: The name tf.global_variables is deprecated. Please use tf.compat.v1.global_variables instead.\n",
            "\n",
            "Train on 296 samples, validate on 114 samples\n",
            "Epoch 1/20\n",
            "296/296 [==============================] - 35s 117ms/step - loss: 18.6457 - accuracy: 0.5743 - val_loss: 0.7127 - val_accuracy: 0.5439\n",
            "Epoch 2/20\n",
            "296/296 [==============================] - 34s 116ms/step - loss: 1.0723 - accuracy: 0.3682 - val_loss: 0.6928 - val_accuracy: 0.5439\n",
            "Epoch 3/20\n",
            "296/296 [==============================] - 34s 115ms/step - loss: 0.7050 - accuracy: 0.3649 - val_loss: 0.6933 - val_accuracy: 0.4561\n",
            "Epoch 4/20\n",
            "296/296 [==============================] - 34s 114ms/step - loss: 0.6927 - accuracy: 0.6182 - val_loss: 0.6934 - val_accuracy: 0.4561\n",
            "Epoch 5/20\n",
            "296/296 [==============================] - 34s 115ms/step - loss: 0.6922 - accuracy: 0.6318 - val_loss: 0.6936 - val_accuracy: 0.4561\n",
            "Epoch 6/20\n",
            "296/296 [==============================] - 33s 113ms/step - loss: 0.6916 - accuracy: 0.6318 - val_loss: 0.6938 - val_accuracy: 0.4561\n",
            "Epoch 7/20\n",
            "296/296 [==============================] - 34s 113ms/step - loss: 0.6911 - accuracy: 0.6318 - val_loss: 0.6940 - val_accuracy: 0.4561\n",
            "Epoch 8/20\n",
            "296/296 [==============================] - 33s 112ms/step - loss: 0.6906 - accuracy: 0.6318 - val_loss: 0.6943 - val_accuracy: 0.4561\n",
            "Epoch 9/20\n",
            "296/296 [==============================] - 33s 112ms/step - loss: 0.6898 - accuracy: 0.6318 - val_loss: 0.6945 - val_accuracy: 0.4561\n",
            "Epoch 10/20\n",
            "296/296 [==============================] - 33s 112ms/step - loss: 0.6890 - accuracy: 0.6318 - val_loss: 0.6948 - val_accuracy: 0.4561\n",
            "Epoch 11/20\n",
            "296/296 [==============================] - 39s 133ms/step - loss: 0.6886 - accuracy: 0.6318 - val_loss: 0.6951 - val_accuracy: 0.4561\n",
            "Epoch 12/20\n",
            "296/296 [==============================] - 33s 112ms/step - loss: 0.6877 - accuracy: 0.6318 - val_loss: 0.6954 - val_accuracy: 0.4561\n",
            "Epoch 13/20\n",
            "296/296 [==============================] - 33s 113ms/step - loss: 0.6873 - accuracy: 0.6318 - val_loss: 0.6958 - val_accuracy: 0.4561\n",
            "Epoch 14/20\n",
            "296/296 [==============================] - 33s 112ms/step - loss: 0.6862 - accuracy: 0.6318 - val_loss: 0.6961 - val_accuracy: 0.4561\n",
            "Epoch 15/20\n",
            "296/296 [==============================] - 33s 112ms/step - loss: 0.6861 - accuracy: 0.6318 - val_loss: 0.6965 - val_accuracy: 0.4561\n",
            "Epoch 16/20\n",
            "296/296 [==============================] - 33s 112ms/step - loss: 0.6848 - accuracy: 0.6318 - val_loss: 0.6969 - val_accuracy: 0.4561\n",
            "Epoch 17/20\n",
            "296/296 [==============================] - 33s 112ms/step - loss: 0.6840 - accuracy: 0.6318 - val_loss: 0.6973 - val_accuracy: 0.4561\n",
            "Epoch 18/20\n",
            "296/296 [==============================] - 33s 112ms/step - loss: 0.6830 - accuracy: 0.6318 - val_loss: 0.6977 - val_accuracy: 0.4561\n",
            "Epoch 19/20\n",
            "296/296 [==============================] - 33s 112ms/step - loss: 0.6826 - accuracy: 0.6318 - val_loss: 0.6982 - val_accuracy: 0.4561\n",
            "Epoch 20/20\n",
            "296/296 [==============================] - 33s 112ms/step - loss: 0.6818 - accuracy: 0.6318 - val_loss: 0.6987 - val_accuracy: 0.4561\n"
          ],
          "name": "stdout"
        },
        {
          "output_type": "execute_result",
          "data": {
            "text/plain": [
              "<keras.callbacks.callbacks.History at 0x7fb63332cf28>"
            ]
          },
          "metadata": {
            "tags": []
          },
          "execution_count": 24
        }
      ]
    },
    {
      "cell_type": "code",
      "metadata": {
        "id": "KwQkfmYI9sjk",
        "colab_type": "code",
        "colab": {}
      },
      "source": [
        "import pickle\n",
        "with open(\"/content/drive/My Drive/Colab Notebooks/sample.pk2\",'wb') as file:\n",
        "      pickle.dump(model,file)"
      ],
      "execution_count": 0,
      "outputs": []
    },
    {
      "cell_type": "code",
      "metadata": {
        "id": "PLO8JfNiAPxq",
        "colab_type": "code",
        "colab": {}
      },
      "source": [
        "x=model.predict_classes(x_train[[50],:])"
      ],
      "execution_count": 0,
      "outputs": []
    },
    {
      "cell_type": "code",
      "metadata": {
        "id": "OcN4HBInCddD",
        "colab_type": "code",
        "outputId": "3d4c5d4a-9b32-4327-b64f-d5c80f343cee",
        "colab": {
          "base_uri": "https://localhost:8080/",
          "height": 34
        }
      },
      "source": [
        "print(x[0])"
      ],
      "execution_count": 28,
      "outputs": [
        {
          "output_type": "stream",
          "text": [
            "1\n"
          ],
          "name": "stdout"
        }
      ]
    }
  ]
}